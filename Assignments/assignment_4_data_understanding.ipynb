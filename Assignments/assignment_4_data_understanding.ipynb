{
  "cells": [
    {
      "cell_type": "markdown",
      "metadata": {
        "id": "view-in-github",
        "colab_type": "text"
      },
      "source": [
        "<a href=\"https://colab.research.google.com/github/vandanara/UofUtah_IS4487/blob/main/Assignments/assignment_4_data_understanding.ipynb\" target=\"_parent\"><img src=\"https://colab.research.google.com/assets/colab-badge.svg\" alt=\"Open In Colab\"/></a>"
      ]
    },
    {
      "cell_type": "markdown",
      "metadata": {
        "id": "p_Yu45OYdj3Y"
      },
      "source": [
        "# IS4487 Week 4 - Assignment\n",
        "\n",
        "### Outline\n",
        "\n",
        "Our Goals with this Project:\n",
        "\n",
        "1. Import and pre-review the data\n",
        "2. Examine or profile the data: assess the shape, data types, distributions, missing values or inconsistencies\n",
        "3. Exploratory data analytics (EDA): create visualizations to better understand the variables and relationships in the data\n",
        "\n",
        "<a href=\"https://colab.research.google.com/github/vandanara/UofUtah_IS4487/blob/main/Assignments/assignment_4_data_understanding.ipynb\" target=\"_parent\"><img src=\"https://colab.research.google.com/assets/colab-badge.svg\" alt=\"Open In Colab\"/></a>"
      ]
    },
    {
      "cell_type": "markdown",
      "metadata": {
        "id": "OZrtT0lUaEUT"
      },
      "source": [
        "### AdviseInvest Data Dictionary\n",
        "\n",
        "| Variable | Description | Type | Code |\n",
        "|:---|:---|:---|:---|\n",
        "| Answered | Customer response | Binary | 0: customer did not answer scheduled call; 1: customer answered scheduled call |\n",
        "| Income | Customer income in US dollars | Numeric | |\n",
        "| Female | Customer gender | Binary | 0: female; 1: male |\n",
        "| Age | Age in years | Numeric | |\n",
        "| Job | Nature of job | Categorical | 0 : unemployed; 1 : entry level position; 2 : midlevel position; 3 : management/ self-employed/ highly qualified employee/ officer |\n",
        "| Num_dependents | Number of people for whom the customer provides maintenance | Numeric | |\n",
        "| Rent | Customer rents | Binary | 0: no; 1: yes |\n",
        "| Own_res | Customer owns residence | Binary | 0: no; 1: yes |\n",
        "| New_car | Recent new car purchase | Binary | New car purchase in the last 3 months: 0: no, 1: yes |\n",
        "| Chk_acct | Checking account status | Categorical | 0 : no checking account; 1: checking < 200 USD; 2 : 200 < checking < 2000 USD; 3: 2000 < checking < 35000 USD; 4: >= 3500 USD |\n",
        "| Sav_acct | Average balance in savings account | Categorical | 0 : no savings account; 1 : 100 <= savings < 500 USD; 2 : 500 <= savings < 2000 USD; 3 : 2000 < savings < 35000 USD; 4: >= 3500 USD |\n",
        "| Num_accts | Number of accounts owned by customer | Numeric | |\n",
        "| Mobile | Mobile phone | Binary | 0: customer provided non‐mobile phone for follow‐up call; 1: customer provided mobile phone for follow‐up call |\n",
        "| Product | Type of product purchased after conversation with sales rep | Categorical | 0: customer did not answer call; 1: customer answered but did not purchase a product; 2: customer answered and purchased Beginner plan; 3: customer answered and purchased Intermediate plan; 4: customer answered and purchased Advanced plan |\n"
      ]
    },
    {
      "cell_type": "markdown",
      "metadata": {
        "id": "UE93RwXhgiJS"
      },
      "source": [
        "### Load Libraries\n",
        "\n",
        "Import the libraries you will need, such as:\n",
        "- Pandas\n",
        "- Matplotlib\n",
        "- Seaborn\n"
      ]
    },
    {
      "cell_type": "code",
      "execution_count": null,
      "metadata": {
        "id": "JYRZY5n0gfNe"
      },
      "outputs": [],
      "source": [
        "#Import libraries 🔧\n",
        "\n"
      ]
    },
    {
      "cell_type": "markdown",
      "source": [
        "## Task 1: Import the data and preview it\n",
        "\n",
        "We are going to import data from the AdviseInvest historical dataset into a dataframe (in GitHub go to the folder called DataSets - click on *'Raw'* button to get the url of raw dataset)\n",
        "\n",
        "As in the AdviseInvest case, we will assume `answered` is our target variable. Let us a"
      ],
      "metadata": {
        "id": "Ywqhz3ZKcnLE"
      }
    },
    {
      "cell_type": "code",
      "source": [
        "#Import the data 🔧\n"
      ],
      "metadata": {
        "id": "rx7kHsXAb9On"
      },
      "execution_count": null,
      "outputs": []
    },
    {
      "cell_type": "markdown",
      "metadata": {
        "id": "bREaXo8jfu-O"
      },
      "source": [
        "## Task 2: Initial Data Understanding: examine or profile the data\n",
        "\n",
        " - Profile the dataframe - obtain the shape of the table, data types, counts of variables, missing values\n",
        " - Are there any duplicate rows?\n",
        " - Describe the dataframe - Look for any outliers\n",
        "\n"
      ]
    },
    {
      "cell_type": "code",
      "source": [
        "#View the shape of the data\n"
      ],
      "metadata": {
        "id": "57GyfCcpwZLK"
      },
      "execution_count": null,
      "outputs": []
    },
    {
      "cell_type": "code",
      "execution_count": null,
      "metadata": {
        "id": "0wkRD0aBa_H7"
      },
      "outputs": [],
      "source": [
        "#View the datatypes, counts and missing values 🔧\n"
      ]
    },
    {
      "cell_type": "code",
      "source": [
        "#Check for duplicated rows\n"
      ],
      "metadata": {
        "id": "ezE4qp5tWmKU"
      },
      "execution_count": null,
      "outputs": []
    },
    {
      "cell_type": "code",
      "execution_count": 60,
      "metadata": {
        "id": "QkKLnfFrbEOS"
      },
      "outputs": [],
      "source": [
        "#Describe the data's numerical columns - are there outliers? look at min, max values compared to mean🔧\n"
      ]
    },
    {
      "cell_type": "code",
      "source": [
        "#Remove any extreme outliers that you find - check for clues in the output of describe\n"
      ],
      "metadata": {
        "id": "LSKRgsUUJqPt"
      },
      "execution_count": null,
      "outputs": []
    },
    {
      "cell_type": "markdown",
      "metadata": {
        "id": "w8W3wh2yRBt8"
      },
      "source": [
        "## Task 3: Explore the data - create visualizations\n",
        "- Explore the relationships between the target and independent variables\n",
        "- Create at least five charts to show the relationships, using different chart types that are approriate to the analysis\n",
        "- Ensure that all charts are clearly labeled and formatted"
      ]
    },
    {
      "cell_type": "code",
      "execution_count": null,
      "metadata": {
        "id": "b-wswJqUjsYK"
      },
      "outputs": [],
      "source": [
        "# Chart 1"
      ]
    },
    {
      "cell_type": "code",
      "execution_count": null,
      "metadata": {
        "id": "_9m05ivbRBt9"
      },
      "outputs": [],
      "source": [
        "# Chart 2"
      ]
    },
    {
      "cell_type": "code",
      "execution_count": null,
      "metadata": {
        "id": "PAAnoQQ5RBt9"
      },
      "outputs": [],
      "source": [
        "# Chart 3 🔧"
      ]
    },
    {
      "cell_type": "code",
      "execution_count": null,
      "metadata": {
        "id": "cHRBRNvFRBt9"
      },
      "outputs": [],
      "source": [
        "# Chart 4 🔧"
      ]
    },
    {
      "cell_type": "code",
      "execution_count": null,
      "metadata": {
        "id": "qpo2ky9NRBt-"
      },
      "outputs": [],
      "source": [
        "# Chart 5 🔧"
      ]
    },
    {
      "cell_type": "markdown",
      "metadata": {
        "id": "MzLoM10Eo2j3"
      },
      "source": [
        "## Task 4: Summarize Your Findings\n",
        "### 4.1: Are all of the variables useful and applicable to the business need?  (you should reference the target variable and whether other variables have are likely to be correlated with the target)"
      ]
    },
    {
      "cell_type": "markdown",
      "metadata": {
        "id": "62yRShXuRBt-"
      },
      "source": [
        "Write your response below:  🔧"
      ]
    },
    {
      "cell_type": "markdown",
      "metadata": {
        "id": "VUIdByA8RBt_"
      },
      "source": [
        "### 4.2: In what ways could the dataset be improved?  Are there any data quality issues or data types that should be fixed?\n",
        "\n",
        "Write your response below: 🔧"
      ]
    },
    {
      "cell_type": "markdown",
      "metadata": {
        "id": "eZDCN5AeRBt_"
      },
      "source": []
    },
    {
      "cell_type": "markdown",
      "metadata": {
        "id": "DVnh0TVORBt_"
      },
      "source": [
        "## Submission Instructions\n",
        "\n",
        "✅ **Before submitting:**\n",
        "- Make sure all code cells are run and outputs are visible  \n",
        "- All markdown questions are answered thoughtfully  \n",
        "- Submit the assignment as an **HTML file** on Canvas"
      ]
    },
    {
      "cell_type": "code",
      "execution_count": null,
      "metadata": {
        "id": "Gvq3cf7CRBt_"
      },
      "outputs": [],
      "source": [
        "!jupyter nbconvert --to html \"assignment_04_LastnameFirstname.ipynb\""
      ]
    }
  ],
  "metadata": {
    "colab": {
      "provenance": [],
      "include_colab_link": true
    },
    "kernelspec": {
      "display_name": "Python 3",
      "name": "python3"
    },
    "language_info": {
      "name": "python"
    }
  },
  "nbformat": 4,
  "nbformat_minor": 0
}