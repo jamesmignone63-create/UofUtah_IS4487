{
  "cells": [
    {
      "cell_type": "markdown",
      "metadata": {
        "id": "amh-zatRQei3"
      },
      "source": [
        "> ### Note on Labs and Assigments:\n",
        ">\n",
        "> 🔧 Look for the **wrench emoji** 🔧 — it highlights where you're expected to take action!\n",
        ">\n",
        "> These sections are graded and are not optional.\n",
        ">"
      ]
    },
    {
      "cell_type": "markdown",
      "metadata": {
        "id": "v37brnQDKQj4"
      },
      "source": [
        "# IS 4487 Lab 4: Data Understanding\n",
        "\n",
        "## Outline\n",
        "\n",
        "- Load and preview a real-world dataset\n",
        "- Inspect structure and preview data\n",
        "- Inspect distributions and identify missing or unusual data\n",
        "- Deal with outliers or skew\n",
        "- Perform basic grouped summaries\n",
        "\n",
        "<a href=\"https://colab.research.google.com/github/vandanara/UofUtah_IS4487/blob/main/Labs/lab_04_data_understanding.ipynb\" target=\"_parent\">\n",
        "  <img src=\"https://colab.research.google.com/assets/colab-badge.svg\" alt=\"Open In Colab\"/>\n",
        "</a>\n",
        "\n",
        "If you have any questions about Colab, you can read more here:  \n",
        "https://research.google.com/colaboratory/faq.html\n"
      ]
    },
    {
      "cell_type": "markdown",
      "metadata": {
        "id": "JWQ8j5tOKezP"
      },
      "source": [
        "## Dataset Overview\n",
        "\n",
        "This week we will use data on Bay Area Craigslist rental housing posts.\n",
        "\n",
        "Source: Pennington, Kate (2018). Bay Area Craigslist Rental Housing Posts, 2000-2018. Retrieved from https://github.com/katepennington/historic_bay_area_craigslist_housing_posts/blob/master/clean_2000_2018.csv.zip\n",
        "\n",
        "**Dataset:** `rent.csv`  \n",
        "Source: [TidyTuesday – 2022-07-05](https://github.com/rfordatascience/tidytuesday/blob/main/data/2022/2022-07-05/rent.csv)\n",
        "\n",
        "| Variable       | Type       | Description |\n",
        "|----------------|------------|-------------|\n",
        "| `post_id`      | Categorical| Unique listing ID |\n",
        "| `date`         | Numeric    | Listing date (numeric format) |\n",
        "| `year`         | Integer    | Year of listing |\n",
        "| `nhood`        | Categorical| Neighborhood |\n",
        "| `city`         | Categorical| City |\n",
        "| `county`       | Categorical| County |\n",
        "| `price`        | Numeric    | Listing price (USD) |\n",
        "| `beds`         | Numeric    | Number of bedrooms |\n",
        "| `baths`        | Numeric    | Number of bathrooms |\n",
        "| `sqft`         | Numeric    | Square footage |\n",
        "| `room_in_apt`  | Binary     |  Indicates whether the rental listing is for an entire apartment (0) or a single room within an apartment (1). |\n",
        "| `address`      | Categorical| Street address |\n",
        "| `lat`          | Numeric    | Latitude |\n",
        "| `lon`          | Numeric    | Longitude |\n",
        "| `title`        | Text       | Listing title |\n",
        "| `descr`        | Text       | Listing description |\n",
        "| `details`      | Text       | Additional details |\n"
      ]
    },
    {
      "cell_type": "markdown",
      "metadata": {
        "id": "kYVS2S1qKoYm"
      },
      "source": [
        "## Part 1: Importing the Libraries and Data\n",
        "\n",
        "### Instructions:\n",
        "- Import the `pandas`, `matplotlib` and `seaborn` libraries.\n",
        "- Import data from the rent.csv into a dataframe from the tidytuesday link.\n",
        "- Use `.info()` and `.head()` to inspect the structure and preview the data."
      ]
    },
    {
      "cell_type": "code",
      "source": [
        "# import any libraries that you wish to use\n",
        "import pandas as pd\n",
        "import matplotlib.pyplot as plt\n",
        "import seaborn as sns"
      ],
      "metadata": {
        "id": "nfw0tvrIzZYQ"
      },
      "execution_count": null,
      "outputs": []
    },
    {
      "cell_type": "code",
      "execution_count": null,
      "metadata": {
        "id": "33vaVxotH3-i"
      },
      "outputs": [],
      "source": [
        "# import data\n",
        "# we can use a function in pandas called read_csv() to read in csv files.\n",
        "# Similarly there are other functions such as  read_excel(), read_json(), read_html() etc\n",
        "url = 'https://raw.githubusercontent.com/rfordatascience/tidytuesday/main/data/2022/2022-07-05/rent.csv'\n",
        "df = pd.read_csv(url)"
      ]
    },
    {
      "cell_type": "code",
      "source": [
        "df.info()"
      ],
      "metadata": {
        "id": "c2zf0ZRYdErV"
      },
      "execution_count": null,
      "outputs": []
    },
    {
      "cell_type": "code",
      "execution_count": null,
      "metadata": {
        "id": "BuT7PpqZe5x8"
      },
      "outputs": [],
      "source": [
        "df.head()"
      ]
    },
    {
      "cell_type": "markdown",
      "metadata": {
        "id": "LRR8uf6_M7ze"
      },
      "source": [
        "### 🔧 Task 1 - Try It Yourself\n",
        "\n",
        "1. Add one line of code to print the number of rows and columns. To get the size of the table, use the .shape attribute of the Dataframe."
      ]
    },
    {
      "cell_type": "code",
      "execution_count": null,
      "metadata": {
        "id": "4WRz1cxkM9O3"
      },
      "outputs": [],
      "source": [
        "# Add code here 🔧\n",
        "print(df.shape)"
      ]
    },
    {
      "cell_type": "markdown",
      "metadata": {
        "id": "LTcsPUAxK7tz"
      },
      "source": [
        "## Part 2: Inspecting, Cleaning & Removing Outliers\n",
        "\n",
        "### Instructions:\n",
        "- Identify whether variables have missing values.\n",
        "- Check data types (e.g., dates, numeric columns). These are inferred. Do they look appropriate?\n",
        "- Check for outliers key numeric variables like `price`, `sqft`, `beds`, or `baths`. Outliers are extreme or unusally low or high values compared to most others.\n",
        "\n"
      ]
    },
    {
      "cell_type": "code",
      "execution_count": null,
      "metadata": {
        "id": "q9Eccob9LgAL"
      },
      "outputs": [],
      "source": [
        "# Check for missing values - get a count for each column\n",
        "df.isnull().sum()"
      ]
    },
    {
      "cell_type": "code",
      "execution_count": null,
      "metadata": {
        "id": "zA6m2sUVLgkW"
      },
      "outputs": [],
      "source": [
        "# Basic summary statistics\n",
        "df[['price', 'beds', 'baths', 'sqft']].describe()"
      ]
    },
    {
      "cell_type": "code",
      "execution_count": null,
      "metadata": {
        "id": "CPdtXYamLkPQ"
      },
      "outputs": [],
      "source": [
        "# Check data types\n",
        "df.dtypes"
      ]
    },
    {
      "cell_type": "markdown",
      "source": [
        "Data types are inferred.\n",
        "- Numeric valus are either `int` (discrete, whole numbers with no limit) or `float` (continuous decimals with no limit). 64 is the default number of bits used to store the int or float.\n",
        "- String/text is stored as `object`.\n",
        "- Note that the inferred datatypes are not always ideal. For instance categorical is not used automatically. We have to set that. `categorical` is best when there are only a limited number of allowed values in the data. This can be numerical variables (0 or 1) or text variables with only some values to choose from (nhood, city, county)\n",
        "\n"
      ],
      "metadata": {
        "id": "YWVIc8cOMfN1"
      }
    },
    {
      "cell_type": "code",
      "source": [
        "#change the following object and int variables to categorical\n",
        "df['nhood']=df['nhood'].astype('category')\n",
        "df['city']=df['city'].astype('category')\n",
        "df['county']=df['county'].astype('category')\n",
        "df['room_in_apt']=df['room_in_apt'].astype('category')\n"
      ],
      "metadata": {
        "id": "8De2WgLTN5R2"
      },
      "execution_count": null,
      "outputs": []
    },
    {
      "cell_type": "markdown",
      "source": [
        "### Outlier analysis\n",
        "To see whether a variable contains outlier (points that are very different in value from the rest), we can create a **boxplot** of the variable.\n",
        "\n",
        "In a boxplot, the box covers the interquartile range (IQR) from 25-75 percentile of the data, and the whiskers (T lines) extend to a certain range (often 1.5 times the IQR) from the box. Any data points that fall outside of this whisker range are considered outliers and are plotted individually as points."
      ],
      "metadata": {
        "id": "muyRP9rOc5Uc"
      }
    },
    {
      "cell_type": "code",
      "execution_count": null,
      "metadata": {
        "id": "-xYt1QWgMQRP"
      },
      "outputs": [],
      "source": [
        "# Boxplot of price\n",
        "sns.boxplot(x=df['price'])\n",
        "plt.title(\"Boxplot of Rental Price\")\n",
        "plt.show()"
      ]
    },
    {
      "cell_type": "code",
      "execution_count": null,
      "metadata": {
        "id": "HxH96RSZMWTF"
      },
      "outputs": [],
      "source": [
        "# Remove price outliers (keep 1st–99th percentile)\n",
        "q_low = df['price'].quantile(0.01)\n",
        "q_high = df['price'].quantile(0.99)\n",
        "df = df[(df['price'] >= q_low) & (df['price'] <= q_high)]"
      ]
    },
    {
      "cell_type": "code",
      "source": [
        "#check the shape to see how many rows were removed/lost when we dropped outliers in price\n",
        "df.shape"
      ],
      "metadata": {
        "id": "6H61S4M-pne-"
      },
      "execution_count": null,
      "outputs": []
    },
    {
      "cell_type": "code",
      "source": [
        "# the plot should have fewer outliers now - see for yourself\n",
        "sns.boxplot(x=df['price'])\n",
        "plt.title(\"Boxplot of Rental Price with outliers removed\")\n",
        "plt.show()"
      ],
      "metadata": {
        "id": "3uLbKwJFVreD"
      },
      "execution_count": null,
      "outputs": []
    },
    {
      "cell_type": "markdown",
      "metadata": {
        "id": "Dr_fml6uMZQj"
      },
      "source": [
        "### 🔧 Try It Yourself – Part 2\n",
        "\n",
        "1. Use `.describe()` and a boxplot to check for outliers in **square footage (`sqft`)**.\n",
        "\n",
        "2. What patterns or issues do you see with square footage values? Is there anything unusual? You dont need to remove the outliers here - leave them.\n"
      ]
    },
    {
      "cell_type": "code",
      "execution_count": null,
      "metadata": {
        "id": "it-Qoh9GMw5p"
      },
      "outputs": [],
      "source": [
        "# Add code here 🔧\n",
        "df['sqft'].describe()\n",
        "\n",
        "sns.boxplot(x=df['sqft'])\n",
        "plt.title(\"Boxplot of Sqft\")\n",
        "plt.show()"
      ]
    },
    {
      "cell_type": "markdown",
      "metadata": {
        "id": "7t4H5zYYNEX3"
      },
      "source": [
        "🔧 Add comment here:\n",
        "\n",
        "There are some very  large outliers that lie so far out - very large homes."
      ]
    },
    {
      "cell_type": "markdown",
      "metadata": {
        "id": "KVYBR3qEMe93"
      },
      "source": [
        "## Part 3: Basic Exploration\n",
        "\n",
        "Use `groupby` and `value_counts` to summarize trends across neighborhoods and cities.\n"
      ]
    },
    {
      "cell_type": "code",
      "execution_count": null,
      "metadata": {
        "id": "MTXDO5Q7Midp"
      },
      "outputs": [],
      "source": [
        "# Average price by neighborhood\n",
        "df.groupby('nhood')['price'].mean().sort_values(ascending=False).head(10)"
      ]
    },
    {
      "cell_type": "code",
      "execution_count": null,
      "metadata": {
        "id": "d4VPc9bbMnnf"
      },
      "outputs": [],
      "source": [
        "# Top cities by count\n",
        "df['city'].value_counts().head(10)"
      ]
    },
    {
      "cell_type": "markdown",
      "metadata": {
        "id": "_NN-83MbMtlh"
      },
      "source": [
        "### 🔧 Try It Yourself – Part 3\n",
        "\n",
        "Explore the data by performing both of the following:\n",
        "\n",
        "1. Group the listings by `year` and calculate the average price for each year.\n",
        "2. Use `.value_counts()` on the `room_in_apt` column to see how common room rentals are.\n",
        "\n",
        "3. Add a short comment or markdown cell describing any trends or insights you found.\n"
      ]
    },
    {
      "cell_type": "code",
      "execution_count": null,
      "metadata": {
        "id": "gQbcYcOPNMws"
      },
      "outputs": [],
      "source": [
        "# Add code here 🔧\n",
        "display(df.groupby('year')['price'].mean())\n",
        "\n",
        "display(df['room_in_apt'].value_counts())"
      ]
    },
    {
      "cell_type": "markdown",
      "metadata": {
        "id": "HBM7HwzkNPTW"
      },
      "source": [
        "🔧 Add comment here:\n",
        "\n",
        "Prices are going up every year but not consistently so, there are some years where the avg rental price dipped.\n",
        "\n",
        "There are certainly many many more whole home rentals than there are room in home rentals.\n"
      ]
    },
    {
      "cell_type": "markdown",
      "metadata": {
        "id": "FdiPlwBLe5yL"
      },
      "source": [
        "## Export Your Notebook to Submit in Canvas\n",
        "- Use the instructions from Lab 1"
      ]
    },
    {
      "cell_type": "code",
      "execution_count": null,
      "metadata": {
        "id": "R7WMB-7Be5yL"
      },
      "outputs": [],
      "source": [
        "!jupyter nbconvert --to html \"lab_04_LastnameFirstname.ipynb\""
      ]
    }
  ],
  "metadata": {
    "colab": {
      "provenance": []
    },
    "kernelspec": {
      "display_name": "Python 3",
      "name": "python3"
    },
    "language_info": {
      "name": "python"
    }
  },
  "nbformat": 4,
  "nbformat_minor": 0
}
