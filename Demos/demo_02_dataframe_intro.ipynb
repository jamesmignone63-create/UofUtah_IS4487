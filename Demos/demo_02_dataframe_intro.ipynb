{
  "cells": [
    {
      "cell_type": "markdown",
      "id": "4a493380",
      "metadata": {
        "id": "4a493380"
      },
      "source": [
        "# IS4487 Module 2 - Practice Code\n",
        "\n",
        "This notebook is designed to help you follow along with the **Week 2 Lecture and Reading**\n",
        "\n",
        "The practice code demos are intended to give you a chance to see working code and can be a source for your lab and assignment work.  Each section contains short explanations and annotated code.\n",
        "\n",
        "### Topics for this demo:\n",
        "- Importing data to a dataframe\n",
        "- Filtering rows in a dataframe\n",
        "- Reshaping/selecting columns in a dataframe\n",
        "- Sorting\n",
        "- Aggregating data\n",
        "\n",
        "<a href=\"https://colab.research.google.com/github/vandanara/UofUtah_IS4487/blob/main/Demos/demo_02_dataframe_intro.ipynb\" target=\"_parent\"><img src=\"https://colab.research.google.com/assets/colab-badge.svg\" alt=\"Open In Colab\"/></a>\n",
        "\n",
        "More information:\n",
        "- Learn more about Colab here:  https://research.google.com/colaboratory/faq.html\n",
        "- Learn more about Pandas here: https://pandas.pydata.org/docs/user_guide/10min.html\n"
      ]
    },
    {
      "cell_type": "markdown",
      "id": "8cfa8673",
      "metadata": {
        "id": "8cfa8673"
      },
      "source": [
        "### Context: Motor Trend Car Road Tests\n",
        "This example uses a small set of data from the 1970s with road tests from cars.  This is the classic dataset that statisticians have been using for the last 50 years to learn to work with data.  \n",
        "\n",
        "| Column | Description                              |\n",
        "| ------ | ---------------------------------------- |\n",
        "| mpg    | Miles per gallon (fuel efficiency)       |\n",
        "| cyl    | Number of cylinders                      |\n",
        "| disp   | Displacement (cu. in.)                   |\n",
        "| hp     | Gross horsepower                         |\n",
        "| drat   | Rear axle ratio                          |\n",
        "| wt     | Weight (1000 lbs)                        |\n",
        "| qsec   | ¼ mile time                              |\n",
        "| vs     | Engine type (0 = V-shaped, 1 = straight) |\n",
        "| am     | Transmission (0 = automatic, 1 = manual) |\n",
        "| gear   | Number of forward gears                  |\n",
        "| carb   | Number of carburetors                    |\n",
        "\n",
        "\n",
        "Your task is to import the data into a dataframe and learn to work with it as you would an Excel sheet."
      ]
    },
    {
      "cell_type": "markdown",
      "id": "9d50b81b",
      "metadata": {
        "id": "9d50b81b"
      },
      "source": [
        "### Import libraries\n",
        "\n",
        "We will import two libraries\n",
        "- Pandas, which is like Excel for Python.  It creates 2-dimensional data frames and lets you work with the rows and columns.  \n",
        "- StatsModels has sample data for use in experimenting with Python"
      ]
    },
    {
      "cell_type": "code",
      "execution_count": null,
      "id": "4630f356",
      "metadata": {
        "id": "4630f356"
      },
      "outputs": [],
      "source": [
        "import pandas as pd\n",
        "import statsmodels.api as sm"
      ]
    },
    {
      "cell_type": "markdown",
      "id": "f4528a1c",
      "metadata": {
        "id": "f4528a1c"
      },
      "source": [
        "### Import Sample Data\n",
        "\n",
        "Use the data from Lab 1"
      ]
    },
    {
      "cell_type": "code",
      "execution_count": null,
      "id": "577c29d2",
      "metadata": {
        "id": "577c29d2"
      },
      "outputs": [],
      "source": [
        "mtcars = sm.datasets.get_rdataset(\"mtcars\", \"datasets\", cache=True).data\n",
        "df = pd.DataFrame(mtcars)\n",
        "print(df)"
      ]
    },
    {
      "cell_type": "markdown",
      "id": "2e371dda",
      "metadata": {
        "id": "2e371dda"
      },
      "source": [
        "### Create Summary Statistics\n",
        "\n",
        "We will use Pandas functions to preview the data"
      ]
    },
    {
      "cell_type": "code",
      "execution_count": null,
      "id": "6681aeb0",
      "metadata": {
        "id": "6681aeb0"
      },
      "outputs": [],
      "source": [
        "df.info()"
      ]
    },
    {
      "cell_type": "code",
      "execution_count": null,
      "id": "638c14ec",
      "metadata": {
        "id": "638c14ec"
      },
      "outputs": [],
      "source": [
        "df.describe()"
      ]
    },
    {
      "cell_type": "markdown",
      "id": "f2b69435",
      "metadata": {
        "id": "f2b69435"
      },
      "source": [
        "### Work with the DataFrame\n",
        "\n",
        "FILTERING: We will filter the dataset"
      ]
    },
    {
      "cell_type": "code",
      "execution_count": null,
      "id": "238629db",
      "metadata": {
        "id": "238629db"
      },
      "outputs": [],
      "source": [
        "#remove the Toyota Corolla row\n",
        "df2 = df[df.index != 'Toyota Corolla']\n",
        "print(df2)"
      ]
    },
    {
      "cell_type": "markdown",
      "source": [
        "RESHAPING: We can select only some columns"
      ],
      "metadata": {
        "id": "LYwHsVy1Nnyt"
      },
      "id": "LYwHsVy1Nnyt"
    },
    {
      "cell_type": "code",
      "execution_count": null,
      "id": "32dd4967",
      "metadata": {
        "id": "32dd4967"
      },
      "outputs": [],
      "source": [
        "#create a new dataframe with the first two columns\n",
        "df3 = df2[['mpg', 'cyl']]\n",
        "print(df3)"
      ]
    },
    {
      "cell_type": "markdown",
      "source": [
        "SORTING the rows\n",
        "\n",
        "The command sort_values is called a method, it is accessed using the dot operator . Each method allows one or more parameters - which are options to customize the method's behavior.\n",
        "\n",
        "parameter by allows us to specify one or more columns to sort on; place the col names inside the [] of the by parameter with quotes ' ' or \" \"\n",
        "\n",
        "in_place allows you to ask for the results of the sorting to replace the data in the DataFrame.\n",
        "\n",
        "To see all the parameters available, type the parentheses after the method, and Colanb will automaticlaly bring up the documentation - super helpful!"
      ],
      "metadata": {
        "id": "XZGk3pM6ODA1"
      },
      "id": "XZGk3pM6ODA1"
    },
    {
      "cell_type": "code",
      "execution_count": null,
      "id": "0d2a4ef2",
      "metadata": {
        "id": "0d2a4ef2"
      },
      "outputs": [],
      "source": [
        "#sort the rows by mpg\n",
        "df3.sort_values(by=['mpg'], inplace=True)\n",
        "print(df3)"
      ]
    },
    {
      "cell_type": "markdown",
      "source": [
        "#### AGGREGATIONS\n",
        "\n",
        "We can perform groupby aggregations, when we wish to perform some calculation on data that is grouped by specified columns.\n",
        "\n",
        "The command to perform grouping by columsn is Df.groupby('colname') or DF.groupby(['col1, 'col2'])) if there are multiple columns.\n",
        "\n",
        "`DF.size()` will give us the number of rows in each group\n",
        "\n",
        "The resulting output of `DF.size()` is a table with a single column. It has a row index - which is the number of cylinders, and one column - which contains the number of rows(cars) with that number of cylinders. The col name is '0' which is meaningless.\n",
        "\n",
        "We can change this to a new DataFrame by calling the command `DF.reset_index(name='count')` which will do the following:\n",
        "- add anew index 0,1,2,3,\n",
        "- the column of counts will now be called 'count'. you can specify any name you want to use"
      ],
      "metadata": {
        "id": "2m-Ofj44OEen"
      },
      "id": "2m-Ofj44OEen"
    },
    {
      "cell_type": "code",
      "execution_count": null,
      "id": "238330c4",
      "metadata": {
        "id": "238330c4"
      },
      "outputs": [],
      "source": [
        "#aggregate the data to get the number of cars with each cylinder count\n",
        "df4 = df3.groupby('cyl').size().reset_index(name='count')\n",
        "print(df4)"
      ]
    }
  ],
  "metadata": {
    "language_info": {
      "name": "python"
    },
    "colab": {
      "provenance": []
    },
    "kernelspec": {
      "name": "python3",
      "display_name": "Python 3"
    }
  },
  "nbformat": 4,
  "nbformat_minor": 5
}