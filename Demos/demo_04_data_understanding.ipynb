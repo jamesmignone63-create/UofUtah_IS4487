{
  "cells": [
    {
      "cell_type": "markdown",
      "id": "4a493380",
      "metadata": {
        "id": "4a493380"
      },
      "source": [
        "# IS4487 Module 4 - Practice Code\n",
        "\n",
        "This notebook is designed to help you follow along with the **Module 4 Lecture and Reading**\n",
        "\n",
        "The practice code demos are intended to give you a chance to see working code and can be a source for your lab and assignment work.  Each section contains short explanations and annotated code that reflect the steps in the reading.\n",
        "\n",
        "### Topics for this demo:\n",
        "- Import libraries\n",
        "- Profile the data\n",
        "- Do basic data exploration\n",
        "\n",
        "<a href=\"https://colab.research.google.com/github/vandanara/UofUtah_IS4487/blob/main/Demos/demo_04_data_understanding.ipynb\" target=\"_parent\"><img src=\"https://colab.research.google.com/assets/colab-badge.svg\" alt=\"Open In Colab\"/></a>\n"
      ]
    },
    {
      "cell_type": "markdown",
      "id": "81006ee9",
      "metadata": {
        "id": "81006ee9"
      },
      "source": [
        "### Context: e-Commerce Retail Sales\n",
        "This example uses a small set of customer orders available on an e-commerce website\n",
        "- Order - OrderDate, OrderId, Quantity\n",
        "- Customer - CustomerID\n",
        "- Product - Product, Category\n",
        "\n",
        "Your task is to do basic statistical analysis of the variables to understand the data quality and completeness."
      ]
    },
    {
      "cell_type": "markdown",
      "id": "99d6e212",
      "metadata": {
        "id": "99d6e212"
      },
      "source": [
        "Import Data"
      ]
    },
    {
      "cell_type": "code",
      "execution_count": null,
      "id": "62880720",
      "metadata": {
        "id": "62880720"
      },
      "outputs": [],
      "source": [
        "import pandas as pd\n",
        "\n",
        "# below is a Python dict or dictionary, which contains key:value pairs\n",
        "# each key is a string using \"\", and each value is a list given as []\n",
        "data = {\n",
        "    \"OrderID\": [1001, 1002, 1003, 1004, 1005],\n",
        "    \"CustomerID\": [1, 2, 3, 1, 2],\n",
        "    \"Product\": [\"Laptop\", \"Mouse\", \"Keyboard\", \"Mouse\", \"Monitor\"],\n",
        "    \"Category\": [\"Electronics\", \"Accessories\", \"Accessories\", \"Accessories\", \"Electronics\"],\n",
        "    \"Quantity\": [1, 2, 1, 1, 1],\n",
        "    \"Price\": [1200.00, 25.00, 50.00, 25.00, 300.00],\n",
        "    \"OrderDate\": [\"2025-06-01\", \"2025-06-02\", \"2025-06-03\", \"2025-06-01\", \"2025-06-03\"]\n",
        "}\n",
        "\n",
        "# Convert the dataset into a Pandas DataFrame\n",
        "# this command makes each key a colname, and the list of values for the key become cell values\n",
        "df = pd.DataFrame(data)"
      ]
    },
    {
      "cell_type": "markdown",
      "id": "8aa3ac31",
      "metadata": {
        "id": "8aa3ac31"
      },
      "source": [
        "Inspect the Data\n",
        "- Do you see any outliers?\n",
        "- Do the datatypes look approriate?\n",
        "- Is data missing from some variables?"
      ]
    },
    {
      "cell_type": "code",
      "execution_count": null,
      "id": "d0f882c5",
      "metadata": {
        "id": "d0f882c5"
      },
      "outputs": [],
      "source": [
        "print(df)"
      ]
    },
    {
      "cell_type": "code",
      "execution_count": null,
      "id": "11c0337f",
      "metadata": {
        "id": "11c0337f"
      },
      "outputs": [],
      "source": [
        "df.info()"
      ]
    },
    {
      "cell_type": "code",
      "execution_count": null,
      "id": "03ed182f",
      "metadata": {
        "id": "03ed182f"
      },
      "outputs": [],
      "source": [
        "df.describe()"
      ]
    },
    {
      "cell_type": "markdown",
      "id": "c41e8dae",
      "metadata": {
        "id": "c41e8dae"
      },
      "source": [
        "Basic Data Exploration"
      ]
    },
    {
      "cell_type": "code",
      "execution_count": null,
      "id": "b1c8204f",
      "metadata": {
        "id": "b1c8204f"
      },
      "outputs": [],
      "source": [
        "#Total sales per product\"\n",
        "df.groupby(\"Product\")[\"Price\"].sum()"
      ]
    },
    {
      "cell_type": "code",
      "execution_count": null,
      "id": "2f13dc84",
      "metadata": {
        "id": "2f13dc84"
      },
      "outputs": [],
      "source": [
        "#Average quantity purchased by category:\")\n",
        "df.groupby(\"Category\")[\"Quantity\"].mean()"
      ]
    },
    {
      "cell_type": "code",
      "source": [],
      "metadata": {
        "id": "xIiLMatR8SlL"
      },
      "id": "xIiLMatR8SlL",
      "execution_count": null,
      "outputs": []
    }
  ],
  "metadata": {
    "language_info": {
      "name": "python"
    },
    "colab": {
      "provenance": []
    },
    "kernelspec": {
      "name": "python3",
      "display_name": "Python 3"
    }
  },
  "nbformat": 4,
  "nbformat_minor": 5
}