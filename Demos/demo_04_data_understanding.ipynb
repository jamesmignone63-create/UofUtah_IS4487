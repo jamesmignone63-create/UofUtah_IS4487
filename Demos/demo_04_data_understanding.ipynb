{
  "cells": [
    {
      "cell_type": "markdown",
      "id": "4a493380",
      "metadata": {
        "id": "4a493380"
      },
      "source": [
        "# IS4487 Module 4 - Practice Code\n",
        "\n",
        "This notebook is designed to help you follow along with the **Module 4 Lecture and Reading**\n",
        "\n",
        "The practice code demos are intended to give you a chance to see working code and can be a source for your lab and assignment work.  Each section contains short explanations and annotated code that reflect the steps in the reading.\n",
        "\n",
        "### Topics for this demo:\n",
        "- Import libraries and data\n",
        "- Profile the data\n",
        "- Do basic data exploration\n",
        "- Understand whether variables have *outliers* (points that are too far out from most others)\n",
        "\n",
        "<a href=\"https://colab.research.google.com/github/vandanara/UofUtah_IS4487/blob/main/Demos/demo_04_data_understanding.ipynb\" target=\"_parent\"><img src=\"https://colab.research.google.com/assets/colab-badge.svg\" alt=\"Open In Colab\"/></a>\n"
      ]
    },
    {
      "cell_type": "markdown",
      "id": "81006ee9",
      "metadata": {
        "id": "81006ee9"
      },
      "source": [
        "### Context: e-Commerce Retail Sales\n",
        "This example uses a small set of customer orders available on an e-commerce website\n",
        "- Order - OrderDate, OrderId, Quantity\n",
        "- Customer - CustomerID\n",
        "- Product - Product, Category\n",
        "\n",
        "Your task is to do basic statistical analysis of the variables to understand the data quality and completeness."
      ]
    },
    {
      "cell_type": "markdown",
      "id": "99d6e212",
      "metadata": {
        "id": "99d6e212"
      },
      "source": [
        "### Import Libraries"
      ]
    },
    {
      "cell_type": "code",
      "source": [
        "import pandas as pd\n",
        "import matplotlib.pyplot as plt\n",
        "import seaborn as sns"
      ],
      "metadata": {
        "id": "IeoutcaGzP3U"
      },
      "id": "IeoutcaGzP3U",
      "execution_count": null,
      "outputs": []
    },
    {
      "cell_type": "markdown",
      "source": [
        "### Create and use data\n",
        "\n",
        "In this exercise, we will create a small artificial dataset in the form of a Python Dictionary or `dict`, that we will then convert to a Dataframe.\n",
        "\n",
        "`dict` is a collection of paired data in the form of key:value pairs separated by commas, enclosed inside {}. The keys will act like the colnames, and within each col we specify several values (here 5) one per row that we want to have in our table.\n",
        "\n",
        "`list` is used to group together a collection of values. It is defined using comma separated values inside []\n"
      ],
      "metadata": {
        "id": "3MnI42B0zSB9"
      },
      "id": "3MnI42B0zSB9"
    },
    {
      "cell_type": "code",
      "execution_count": null,
      "id": "62880720",
      "metadata": {
        "id": "62880720"
      },
      "outputs": [],
      "source": [
        "# below is a Python dict or dictionary, which contains key:value pairs\n",
        "# each key is a string using \"\"\n",
        "# each value is a list given as []\n",
        "data = {\n",
        "    \"OrderID\": [1001, 1002, 1003, 1004, 1005],\n",
        "    \"CustomerID\": [1, 2, 3, 1, 2],\n",
        "    \"Product\": [\"Laptop\", \"Mouse\", \"Keyboard\", \"Mouse\", \"Monitor\"],\n",
        "    \"Category\": [\"Electronics\", \"Accessories\", \"Accessories\", \"Accessories\", \"Electronics\"],\n",
        "    \"Quantity\": [1, 2, 1, 1, 1],\n",
        "    \"Price\": [1200.00, 25.00, 50.00, 25.00, 300.00],\n",
        "    \"OrderDate\": [\"2025-06-01\", \"2025-06-02\", \"2025-06-03\", \"2025-06-01\", \"2025-06-03\"]\n",
        "}\n",
        "\n",
        "# Convert the dataset into a Pandas DataFrame\n",
        "# this command makes each key a colname, and the list of values for the key become cell values\n",
        "df = pd.DataFrame(data)"
      ]
    },
    {
      "cell_type": "markdown",
      "id": "8aa3ac31",
      "metadata": {
        "id": "8aa3ac31"
      },
      "source": [
        "### Inspect the Data\n",
        "- Is data missing from some variables?\n",
        "- Do the datatypes look approriate?\n",
        "- Do you see any outliers? A general rule of thumb: look for values that are very small or large compared to the mean (more than 3 std deviations away)\n"
      ]
    },
    {
      "cell_type": "code",
      "execution_count": null,
      "id": "d0f882c5",
      "metadata": {
        "id": "d0f882c5",
        "colab": {
          "base_uri": "https://localhost:8080/"
        },
        "outputId": "c79ab642-4d69-4678-d818-611f537aaffa"
      },
      "outputs": [
        {
          "output_type": "stream",
          "name": "stdout",
          "text": [
            "   OrderID  CustomerID   Product     Category  Quantity   Price   OrderDate\n",
            "0     1001           1    Laptop  Electronics         1  1200.0  2025-06-01\n",
            "1     1002           2     Mouse  Accessories         2    25.0  2025-06-02\n",
            "2     1003           3  Keyboard  Accessories         1    50.0  2025-06-03\n",
            "3     1004           1     Mouse  Accessories         1    25.0  2025-06-01\n",
            "4     1005           2   Monitor  Electronics         1   300.0  2025-06-03\n"
          ]
        }
      ],
      "source": [
        "# preview the data\n",
        "print(df)"
      ]
    },
    {
      "cell_type": "code",
      "execution_count": null,
      "id": "11c0337f",
      "metadata": {
        "id": "11c0337f",
        "colab": {
          "base_uri": "https://localhost:8080/"
        },
        "outputId": "12576bc8-db1a-4d7f-aff7-c7fb9d556871"
      },
      "outputs": [
        {
          "output_type": "stream",
          "name": "stdout",
          "text": [
            "<class 'pandas.core.frame.DataFrame'>\n",
            "RangeIndex: 5 entries, 0 to 4\n",
            "Data columns (total 7 columns):\n",
            " #   Column      Non-Null Count  Dtype  \n",
            "---  ------      --------------  -----  \n",
            " 0   OrderID     5 non-null      int64  \n",
            " 1   CustomerID  5 non-null      int64  \n",
            " 2   Product     5 non-null      object \n",
            " 3   Category    5 non-null      object \n",
            " 4   Quantity    5 non-null      int64  \n",
            " 5   Price       5 non-null      float64\n",
            " 6   OrderDate   5 non-null      object \n",
            "dtypes: float64(1), int64(3), object(3)\n",
            "memory usage: 412.0+ bytes\n"
          ]
        }
      ],
      "source": [
        "# print information about what variables are in the Dataframe - their inferred data types, and whether there are missing values\n",
        "# object refers to string or text data type\n",
        "# note that date has been inferred as an object - which is not ideal\n",
        "df.info()"
      ]
    },
    {
      "cell_type": "code",
      "execution_count": null,
      "id": "03ed182f",
      "metadata": {
        "id": "03ed182f",
        "colab": {
          "base_uri": "https://localhost:8080/",
          "height": 300
        },
        "outputId": "931a41cd-63c2-4c19-aa8f-ae1efbbf7e9f"
      },
      "outputs": [
        {
          "output_type": "execute_result",
          "data": {
            "text/plain": [
              "           OrderID  CustomerID  Quantity        Price\n",
              "count     5.000000     5.00000  5.000000     5.000000\n",
              "mean   1003.000000     1.80000  1.200000   320.000000\n",
              "std       1.581139     0.83666  0.447214   505.408251\n",
              "min    1001.000000     1.00000  1.000000    25.000000\n",
              "25%    1002.000000     1.00000  1.000000    25.000000\n",
              "50%    1003.000000     2.00000  1.000000    50.000000\n",
              "75%    1004.000000     2.00000  1.000000   300.000000\n",
              "max    1005.000000     3.00000  2.000000  1200.000000"
            ],
            "text/html": [
              "\n",
              "  <div id=\"df-47f23c9e-a1e7-4b2c-b9c8-cc408faf4e2c\" class=\"colab-df-container\">\n",
              "    <div>\n",
              "<style scoped>\n",
              "    .dataframe tbody tr th:only-of-type {\n",
              "        vertical-align: middle;\n",
              "    }\n",
              "\n",
              "    .dataframe tbody tr th {\n",
              "        vertical-align: top;\n",
              "    }\n",
              "\n",
              "    .dataframe thead th {\n",
              "        text-align: right;\n",
              "    }\n",
              "</style>\n",
              "<table border=\"1\" class=\"dataframe\">\n",
              "  <thead>\n",
              "    <tr style=\"text-align: right;\">\n",
              "      <th></th>\n",
              "      <th>OrderID</th>\n",
              "      <th>CustomerID</th>\n",
              "      <th>Quantity</th>\n",
              "      <th>Price</th>\n",
              "    </tr>\n",
              "  </thead>\n",
              "  <tbody>\n",
              "    <tr>\n",
              "      <th>count</th>\n",
              "      <td>5.000000</td>\n",
              "      <td>5.00000</td>\n",
              "      <td>5.000000</td>\n",
              "      <td>5.000000</td>\n",
              "    </tr>\n",
              "    <tr>\n",
              "      <th>mean</th>\n",
              "      <td>1003.000000</td>\n",
              "      <td>1.80000</td>\n",
              "      <td>1.200000</td>\n",
              "      <td>320.000000</td>\n",
              "    </tr>\n",
              "    <tr>\n",
              "      <th>std</th>\n",
              "      <td>1.581139</td>\n",
              "      <td>0.83666</td>\n",
              "      <td>0.447214</td>\n",
              "      <td>505.408251</td>\n",
              "    </tr>\n",
              "    <tr>\n",
              "      <th>min</th>\n",
              "      <td>1001.000000</td>\n",
              "      <td>1.00000</td>\n",
              "      <td>1.000000</td>\n",
              "      <td>25.000000</td>\n",
              "    </tr>\n",
              "    <tr>\n",
              "      <th>25%</th>\n",
              "      <td>1002.000000</td>\n",
              "      <td>1.00000</td>\n",
              "      <td>1.000000</td>\n",
              "      <td>25.000000</td>\n",
              "    </tr>\n",
              "    <tr>\n",
              "      <th>50%</th>\n",
              "      <td>1003.000000</td>\n",
              "      <td>2.00000</td>\n",
              "      <td>1.000000</td>\n",
              "      <td>50.000000</td>\n",
              "    </tr>\n",
              "    <tr>\n",
              "      <th>75%</th>\n",
              "      <td>1004.000000</td>\n",
              "      <td>2.00000</td>\n",
              "      <td>1.000000</td>\n",
              "      <td>300.000000</td>\n",
              "    </tr>\n",
              "    <tr>\n",
              "      <th>max</th>\n",
              "      <td>1005.000000</td>\n",
              "      <td>3.00000</td>\n",
              "      <td>2.000000</td>\n",
              "      <td>1200.000000</td>\n",
              "    </tr>\n",
              "  </tbody>\n",
              "</table>\n",
              "</div>\n",
              "    <div class=\"colab-df-buttons\">\n",
              "\n",
              "  <div class=\"colab-df-container\">\n",
              "    <button class=\"colab-df-convert\" onclick=\"convertToInteractive('df-47f23c9e-a1e7-4b2c-b9c8-cc408faf4e2c')\"\n",
              "            title=\"Convert this dataframe to an interactive table.\"\n",
              "            style=\"display:none;\">\n",
              "\n",
              "  <svg xmlns=\"http://www.w3.org/2000/svg\" height=\"24px\" viewBox=\"0 -960 960 960\">\n",
              "    <path d=\"M120-120v-720h720v720H120Zm60-500h600v-160H180v160Zm220 220h160v-160H400v160Zm0 220h160v-160H400v160ZM180-400h160v-160H180v160Zm440 0h160v-160H620v160ZM180-180h160v-160H180v160Zm440 0h160v-160H620v160Z\"/>\n",
              "  </svg>\n",
              "    </button>\n",
              "\n",
              "  <style>\n",
              "    .colab-df-container {\n",
              "      display:flex;\n",
              "      gap: 12px;\n",
              "    }\n",
              "\n",
              "    .colab-df-convert {\n",
              "      background-color: #E8F0FE;\n",
              "      border: none;\n",
              "      border-radius: 50%;\n",
              "      cursor: pointer;\n",
              "      display: none;\n",
              "      fill: #1967D2;\n",
              "      height: 32px;\n",
              "      padding: 0 0 0 0;\n",
              "      width: 32px;\n",
              "    }\n",
              "\n",
              "    .colab-df-convert:hover {\n",
              "      background-color: #E2EBFA;\n",
              "      box-shadow: 0px 1px 2px rgba(60, 64, 67, 0.3), 0px 1px 3px 1px rgba(60, 64, 67, 0.15);\n",
              "      fill: #174EA6;\n",
              "    }\n",
              "\n",
              "    .colab-df-buttons div {\n",
              "      margin-bottom: 4px;\n",
              "    }\n",
              "\n",
              "    [theme=dark] .colab-df-convert {\n",
              "      background-color: #3B4455;\n",
              "      fill: #D2E3FC;\n",
              "    }\n",
              "\n",
              "    [theme=dark] .colab-df-convert:hover {\n",
              "      background-color: #434B5C;\n",
              "      box-shadow: 0px 1px 3px 1px rgba(0, 0, 0, 0.15);\n",
              "      filter: drop-shadow(0px 1px 2px rgba(0, 0, 0, 0.3));\n",
              "      fill: #FFFFFF;\n",
              "    }\n",
              "  </style>\n",
              "\n",
              "    <script>\n",
              "      const buttonEl =\n",
              "        document.querySelector('#df-47f23c9e-a1e7-4b2c-b9c8-cc408faf4e2c button.colab-df-convert');\n",
              "      buttonEl.style.display =\n",
              "        google.colab.kernel.accessAllowed ? 'block' : 'none';\n",
              "\n",
              "      async function convertToInteractive(key) {\n",
              "        const element = document.querySelector('#df-47f23c9e-a1e7-4b2c-b9c8-cc408faf4e2c');\n",
              "        const dataTable =\n",
              "          await google.colab.kernel.invokeFunction('convertToInteractive',\n",
              "                                                    [key], {});\n",
              "        if (!dataTable) return;\n",
              "\n",
              "        const docLinkHtml = 'Like what you see? Visit the ' +\n",
              "          '<a target=\"_blank\" href=https://colab.research.google.com/notebooks/data_table.ipynb>data table notebook</a>'\n",
              "          + ' to learn more about interactive tables.';\n",
              "        element.innerHTML = '';\n",
              "        dataTable['output_type'] = 'display_data';\n",
              "        await google.colab.output.renderOutput(dataTable, element);\n",
              "        const docLink = document.createElement('div');\n",
              "        docLink.innerHTML = docLinkHtml;\n",
              "        element.appendChild(docLink);\n",
              "      }\n",
              "    </script>\n",
              "  </div>\n",
              "\n",
              "\n",
              "    <div id=\"df-8d525cff-b2d1-48e7-a90b-8dea48266680\">\n",
              "      <button class=\"colab-df-quickchart\" onclick=\"quickchart('df-8d525cff-b2d1-48e7-a90b-8dea48266680')\"\n",
              "                title=\"Suggest charts\"\n",
              "                style=\"display:none;\">\n",
              "\n",
              "<svg xmlns=\"http://www.w3.org/2000/svg\" height=\"24px\"viewBox=\"0 0 24 24\"\n",
              "     width=\"24px\">\n",
              "    <g>\n",
              "        <path d=\"M19 3H5c-1.1 0-2 .9-2 2v14c0 1.1.9 2 2 2h14c1.1 0 2-.9 2-2V5c0-1.1-.9-2-2-2zM9 17H7v-7h2v7zm4 0h-2V7h2v10zm4 0h-2v-4h2v4z\"/>\n",
              "    </g>\n",
              "</svg>\n",
              "      </button>\n",
              "\n",
              "<style>\n",
              "  .colab-df-quickchart {\n",
              "      --bg-color: #E8F0FE;\n",
              "      --fill-color: #1967D2;\n",
              "      --hover-bg-color: #E2EBFA;\n",
              "      --hover-fill-color: #174EA6;\n",
              "      --disabled-fill-color: #AAA;\n",
              "      --disabled-bg-color: #DDD;\n",
              "  }\n",
              "\n",
              "  [theme=dark] .colab-df-quickchart {\n",
              "      --bg-color: #3B4455;\n",
              "      --fill-color: #D2E3FC;\n",
              "      --hover-bg-color: #434B5C;\n",
              "      --hover-fill-color: #FFFFFF;\n",
              "      --disabled-bg-color: #3B4455;\n",
              "      --disabled-fill-color: #666;\n",
              "  }\n",
              "\n",
              "  .colab-df-quickchart {\n",
              "    background-color: var(--bg-color);\n",
              "    border: none;\n",
              "    border-radius: 50%;\n",
              "    cursor: pointer;\n",
              "    display: none;\n",
              "    fill: var(--fill-color);\n",
              "    height: 32px;\n",
              "    padding: 0;\n",
              "    width: 32px;\n",
              "  }\n",
              "\n",
              "  .colab-df-quickchart:hover {\n",
              "    background-color: var(--hover-bg-color);\n",
              "    box-shadow: 0 1px 2px rgba(60, 64, 67, 0.3), 0 1px 3px 1px rgba(60, 64, 67, 0.15);\n",
              "    fill: var(--button-hover-fill-color);\n",
              "  }\n",
              "\n",
              "  .colab-df-quickchart-complete:disabled,\n",
              "  .colab-df-quickchart-complete:disabled:hover {\n",
              "    background-color: var(--disabled-bg-color);\n",
              "    fill: var(--disabled-fill-color);\n",
              "    box-shadow: none;\n",
              "  }\n",
              "\n",
              "  .colab-df-spinner {\n",
              "    border: 2px solid var(--fill-color);\n",
              "    border-color: transparent;\n",
              "    border-bottom-color: var(--fill-color);\n",
              "    animation:\n",
              "      spin 1s steps(1) infinite;\n",
              "  }\n",
              "\n",
              "  @keyframes spin {\n",
              "    0% {\n",
              "      border-color: transparent;\n",
              "      border-bottom-color: var(--fill-color);\n",
              "      border-left-color: var(--fill-color);\n",
              "    }\n",
              "    20% {\n",
              "      border-color: transparent;\n",
              "      border-left-color: var(--fill-color);\n",
              "      border-top-color: var(--fill-color);\n",
              "    }\n",
              "    30% {\n",
              "      border-color: transparent;\n",
              "      border-left-color: var(--fill-color);\n",
              "      border-top-color: var(--fill-color);\n",
              "      border-right-color: var(--fill-color);\n",
              "    }\n",
              "    40% {\n",
              "      border-color: transparent;\n",
              "      border-right-color: var(--fill-color);\n",
              "      border-top-color: var(--fill-color);\n",
              "    }\n",
              "    60% {\n",
              "      border-color: transparent;\n",
              "      border-right-color: var(--fill-color);\n",
              "    }\n",
              "    80% {\n",
              "      border-color: transparent;\n",
              "      border-right-color: var(--fill-color);\n",
              "      border-bottom-color: var(--fill-color);\n",
              "    }\n",
              "    90% {\n",
              "      border-color: transparent;\n",
              "      border-bottom-color: var(--fill-color);\n",
              "    }\n",
              "  }\n",
              "</style>\n",
              "\n",
              "      <script>\n",
              "        async function quickchart(key) {\n",
              "          const quickchartButtonEl =\n",
              "            document.querySelector('#' + key + ' button');\n",
              "          quickchartButtonEl.disabled = true;  // To prevent multiple clicks.\n",
              "          quickchartButtonEl.classList.add('colab-df-spinner');\n",
              "          try {\n",
              "            const charts = await google.colab.kernel.invokeFunction(\n",
              "                'suggestCharts', [key], {});\n",
              "          } catch (error) {\n",
              "            console.error('Error during call to suggestCharts:', error);\n",
              "          }\n",
              "          quickchartButtonEl.classList.remove('colab-df-spinner');\n",
              "          quickchartButtonEl.classList.add('colab-df-quickchart-complete');\n",
              "        }\n",
              "        (() => {\n",
              "          let quickchartButtonEl =\n",
              "            document.querySelector('#df-8d525cff-b2d1-48e7-a90b-8dea48266680 button');\n",
              "          quickchartButtonEl.style.display =\n",
              "            google.colab.kernel.accessAllowed ? 'block' : 'none';\n",
              "        })();\n",
              "      </script>\n",
              "    </div>\n",
              "\n",
              "    </div>\n",
              "  </div>\n"
            ],
            "application/vnd.google.colaboratory.intrinsic+json": {
              "type": "dataframe",
              "summary": "{\n  \"name\": \"df\",\n  \"rows\": 8,\n  \"fields\": [\n    {\n      \"column\": \"OrderID\",\n      \"properties\": {\n        \"dtype\": \"number\",\n        \"std\": 462.777987917471,\n        \"min\": 1.5811388300841898,\n        \"max\": 1005.0,\n        \"num_unique_values\": 7,\n        \"samples\": [\n          5.0,\n          1003.0,\n          1004.0\n        ],\n        \"semantic_type\": \"\",\n        \"description\": \"\"\n      }\n    },\n    {\n      \"column\": \"CustomerID\",\n      \"properties\": {\n        \"dtype\": \"number\",\n        \"std\": 1.3806154370523314,\n        \"min\": 0.8366600265340756,\n        \"max\": 5.0,\n        \"num_unique_values\": 6,\n        \"samples\": [\n          5.0,\n          1.8,\n          3.0\n        ],\n        \"semantic_type\": \"\",\n        \"description\": \"\"\n      }\n    },\n    {\n      \"column\": \"Quantity\",\n      \"properties\": {\n        \"dtype\": \"number\",\n        \"std\": 1.4464734718680032,\n        \"min\": 0.44721359549995804,\n        \"max\": 5.0,\n        \"num_unique_values\": 5,\n        \"samples\": [\n          1.2,\n          2.0,\n          0.44721359549995804\n        ],\n        \"semantic_type\": \"\",\n        \"description\": \"\"\n      }\n    },\n    {\n      \"column\": \"Price\",\n      \"properties\": {\n        \"dtype\": \"number\",\n        \"std\": 405.8944209646174,\n        \"min\": 5.0,\n        \"max\": 1200.0,\n        \"num_unique_values\": 7,\n        \"samples\": [\n          5.0,\n          320.0,\n          300.0\n        ],\n        \"semantic_type\": \"\",\n        \"description\": \"\"\n      }\n    }\n  ]\n}"
            }
          },
          "metadata": {},
          "execution_count": 8
        }
      ],
      "source": [
        "# look at the distribution of numeric variables, look at means and std dev\n",
        "# when min and max values are more than 3 std dev from mean - there might be outliers in our data\n",
        "df.describe()"
      ]
    },
    {
      "cell_type": "markdown",
      "id": "c41e8dae",
      "metadata": {
        "id": "c41e8dae"
      },
      "source": [
        "### Basic Data Exploration"
      ]
    },
    {
      "cell_type": "code",
      "execution_count": null,
      "id": "b1c8204f",
      "metadata": {
        "id": "b1c8204f"
      },
      "outputs": [],
      "source": [
        "#Total sales per product\"\n",
        "df.groupby(\"Product\")[\"Price\"].sum()"
      ]
    },
    {
      "cell_type": "code",
      "execution_count": null,
      "id": "2f13dc84",
      "metadata": {
        "id": "2f13dc84"
      },
      "outputs": [],
      "source": [
        "#Average quantity purchased by category:\")\n",
        "df.groupby(\"Category\")[\"Quantity\"].mean()"
      ]
    }
  ],
  "metadata": {
    "language_info": {
      "name": "python"
    },
    "colab": {
      "provenance": []
    },
    "kernelspec": {
      "name": "python3",
      "display_name": "Python 3"
    }
  },
  "nbformat": 4,
  "nbformat_minor": 5
}