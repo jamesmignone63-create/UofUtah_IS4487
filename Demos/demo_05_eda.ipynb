{
  "cells": [
    {
      "cell_type": "markdown",
      "id": "ca5746f5",
      "metadata": {
        "id": "ca5746f5"
      },
      "source": [
        "# IS4487 Week 5 - Practice Code\n",
        "\n",
        "This notebook is designed to help you follow along with the **Week 5 Lecture and Reading**\n",
        "\n",
        "The practice code demos are intended to give you a chance to see working code and can be a source for your lab and assignment work.  Each section contains short explanations and annotated code that reflect the steps in the reading.\n",
        "\n",
        "### Topics for this demo:\n",
        "- Univariate analysis\n",
        "- Multi-variate analysis\n",
        "\n",
        "<a href=\"https://colab.research.google.com/github/vandanara/UofUtah_IS4487/blob/main/Demos/demo_05_eda.ipynb\" target=\"_parent\"><img src=\"https://colab.research.google.com/assets/colab-badge.svg\" alt=\"Open In Colab\"/></a>\n"
      ]
    },
    {
      "cell_type": "markdown",
      "id": "1b34ae2b",
      "metadata": {
        "id": "1b34ae2b"
      },
      "source": [
        "## Context: Financial Risk Assesement Analytics\n",
        "FinTrust Bank is a mid-sized financial institution that provides consumer loans, credit cards, and mortgages. The risk analytics team is investigating patterns in customer borrowing behavior to better understand which customers are most likely to default on their loans.\n",
        "\n",
        "Your task is to explore the data to understand how each variable behaves in the financial risk assesment."
      ]
    },
    {
      "cell_type": "markdown",
      "id": "001e9def",
      "metadata": {
        "id": "001e9def"
      },
      "source": [
        "## Step 1: Install and Import all Necessary libraries"
      ]
    },
    {
      "cell_type": "code",
      "execution_count": null,
      "id": "f82fb25e",
      "metadata": {
        "id": "f82fb25e"
      },
      "outputs": [],
      "source": [
        "import pandas as pd\n",
        "import numpy as np\n",
        "import seaborn as sns\n",
        "import matplotlib.pyplot as plt"
      ]
    },
    {
      "cell_type": "markdown",
      "id": "5c3e4d3e",
      "metadata": {
        "id": "5c3e4d3e"
      },
      "source": [
        "## Step 2: Load Dataset (replace with your own file if needed)"
      ]
    },
    {
      "cell_type": "code",
      "execution_count": null,
      "id": "a5339d85",
      "metadata": {
        "id": "a5339d85"
      },
      "outputs": [],
      "source": [
        "url = 'https://raw.githubusercontent.com/Stan-Pugsley/is_4487_base/refs/heads/main/DataSets/fintrust_loans.csv'  # Replace with uploaded URL or path\n",
        "df = pd.read_csv(url)"
      ]
    },
    {
      "cell_type": "markdown",
      "id": "1de2c590",
      "metadata": {
        "id": "1de2c590"
      },
      "source": [
        "## Step 3: Preview and Basic Info"
      ]
    },
    {
      "cell_type": "code",
      "execution_count": null,
      "id": "17706386",
      "metadata": {
        "id": "17706386"
      },
      "outputs": [],
      "source": [
        "print(df.head())"
      ]
    },
    {
      "cell_type": "code",
      "execution_count": null,
      "id": "09f19d37",
      "metadata": {
        "id": "09f19d37"
      },
      "outputs": [],
      "source": [
        "df.info()"
      ]
    },
    {
      "cell_type": "code",
      "execution_count": null,
      "id": "ebf58949",
      "metadata": {
        "id": "ebf58949"
      },
      "outputs": [],
      "source": [
        "df.describe()"
      ]
    },
    {
      "cell_type": "markdown",
      "id": "cc6db255",
      "metadata": {
        "id": "cc6db255"
      },
      "source": [
        "## Step 4: Check for Missing Values"
      ]
    },
    {
      "cell_type": "code",
      "execution_count": null,
      "id": "103892a8",
      "metadata": {
        "id": "103892a8"
      },
      "outputs": [],
      "source": [
        "print(\"\\nMissing Values:\")\n",
        "print(df.isnull().sum())"
      ]
    },
    {
      "cell_type": "markdown",
      "id": "0b0492c3",
      "metadata": {
        "id": "0b0492c3"
      },
      "source": [
        "## Step 5: Univariate Visualization"
      ]
    },
    {
      "cell_type": "code",
      "execution_count": null,
      "id": "5d68be39",
      "metadata": {
        "id": "5d68be39"
      },
      "outputs": [],
      "source": [
        "sns.histplot(df['CreditScore'].dropna(), kde=True)\n",
        "plt.title(\"Distribution of Credit Score\")\n",
        "plt.show()"
      ]
    },
    {
      "cell_type": "code",
      "execution_count": null,
      "id": "4a848c2a",
      "metadata": {
        "id": "4a848c2a"
      },
      "outputs": [],
      "source": [
        "sns.boxplot(x='LoanStatus', y='ApplicantIncome', data=df)\n",
        "plt.title(\"Applicant Income by Loan Status\")\n",
        "plt.show()"
      ]
    },
    {
      "cell_type": "markdown",
      "id": "c5f45e39",
      "metadata": {
        "id": "c5f45e39"
      },
      "source": [
        "## Step 6: Bivariate Visualization"
      ]
    },
    {
      "cell_type": "code",
      "execution_count": null,
      "id": "7ce22172",
      "metadata": {
        "id": "7ce22172"
      },
      "outputs": [],
      "source": [
        "correlation = df[['LoanAmount', 'CreditScore']].corr()\n",
        "print(correlation)"
      ]
    },
    {
      "cell_type": "code",
      "execution_count": null,
      "id": "3869a234",
      "metadata": {
        "id": "3869a234"
      },
      "outputs": [],
      "source": [
        "sns.scatterplot(x='LoanAmount', y='CreditScore', hue='LoanStatus', data=df)\n",
        "plt.title(\"Loan Amount vs. Credit Score\")\n",
        "plt.show()"
      ]
    },
    {
      "cell_type": "code",
      "execution_count": null,
      "id": "7f484e9e",
      "metadata": {
        "id": "7f484e9e"
      },
      "outputs": [],
      "source": [
        "sns.countplot(x='EmploymentStatus', hue='LoanStatus', data=df)\n",
        "plt.title(\"Loan Status by Employment Type\")\n",
        "plt.xticks(rotation=45)\n",
        "plt.show()"
      ]
    },
    {
      "cell_type": "markdown",
      "id": "2954a02e",
      "metadata": {
        "id": "2954a02e"
      },
      "source": [
        "## Step 7: Outlier Detection using IQR"
      ]
    },
    {
      "cell_type": "code",
      "execution_count": null,
      "id": "2ef95c33",
      "metadata": {
        "id": "2ef95c33"
      },
      "outputs": [],
      "source": [
        "Q1 = df['LoanAmount'].quantile(0.25)\n",
        "Q3 = df['LoanAmount'].quantile(0.75)\n",
        "IQR = Q3 - Q1\n",
        "outliers = df[(df['LoanAmount'] < Q1 - 1.5 * IQR) | (df['LoanAmount'] > Q3 + 1.5 * IQR)]\n",
        "print(f\"\\nNumber of Loan Amount Outliers: {len(outliers)}\")"
      ]
    },
    {
      "cell_type": "markdown",
      "id": "26b8a8d1",
      "metadata": {
        "id": "26b8a8d1"
      },
      "source": [
        "## Step 8: Ethical Reflection Prompt"
      ]
    },
    {
      "cell_type": "markdown",
      "source": [
        "Question: What are the risks of using demographic data like 'Gender' or 'Marital Status' to assess default risk? How can we mitigate bias in modeling?\"\n",
        "\n",
        "Please write your answer here:"
      ],
      "metadata": {
        "id": "6ptFJanBA86Z"
      },
      "id": "6ptFJanBA86Z"
    }
  ],
  "metadata": {
    "language_info": {
      "name": "python"
    },
    "colab": {
      "provenance": [],
      "toc_visible": true
    }
  },
  "nbformat": 4,
  "nbformat_minor": 5
}