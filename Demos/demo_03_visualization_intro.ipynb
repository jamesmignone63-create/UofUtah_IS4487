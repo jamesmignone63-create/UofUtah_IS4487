{
  "cells": [
    {
      "cell_type": "markdown",
      "id": "4a493380",
      "metadata": {
        "id": "4a493380"
      },
      "source": [
        "# IS4487 Module 3 - Practice Code\n",
        "\n",
        "This notebook is designed to help you follow along with the **Module 3 Lecture and Reading**, introducing you to visualization in Python.\n",
        "\n",
        "The practice code demos are intended to give you a chance to see working code and can be a source for your lab and assignment work.  Each section contains short explanations and annotated code to help you learn.\n",
        "\n",
        "### Topics for this demo:\n",
        "- Create charts from a dataframe\n",
        "- learn to use Pandas Dataframe.plt()\n",
        "- learn the basics of Matplotlib\n",
        "\n",
        "<a href=\"https://colab.research.google.com/github/vandanara/UofUtah_IS4487/blob/main/Demos/demo_03_visualization_intro.ipynb\" target=\"_parent\"><img src=\"https://colab.research.google.com/assets/colab-badge.svg\" alt=\"Open In Colab\"/></a>\n"
      ]
    },
    {
      "cell_type": "markdown",
      "id": "c04090df",
      "metadata": {
        "id": "c04090df"
      },
      "source": [
        "### Context: Motor Trend Car Road Tests\n",
        "This example uses a small set of data from the 1970s with road tests from cars.  This is the classic dataset that statisticians have been using for the last 50 years to learn to work with data.  \n",
        "\n",
        "| Column | Description                              |\n",
        "| ------ | ---------------------------------------- |\n",
        "| mpg    | Miles per gallon (fuel efficiency)       |\n",
        "| cyl    | Number of cylinders                      |\n",
        "| disp   | Displacement (cu. in.)                   |\n",
        "| hp     | Gross horsepower                         |\n",
        "| drat   | Rear axle ratio                          |\n",
        "| wt     | Weight (1000 lbs)                        |\n",
        "| qsec   | ¼ mile time                              |\n",
        "| vs     | Engine type (0 = V-shaped, 1 = straight) |\n",
        "| am     | Transmission (0 = automatic, 1 = manual) |\n",
        "| gear   | Number of forward gears                  |\n",
        "| carb   | Number of carburetors                    |\n",
        "\n",
        "\n",
        "Your task is to visualize the data using Python functions."
      ]
    },
    {
      "cell_type": "markdown",
      "id": "9d50b81b",
      "metadata": {
        "id": "9d50b81b"
      },
      "source": [
        "### Import libraries\n",
        "\n",
        "We will import two libraries\n",
        "- Pandas, which is like Excel for Python.  It creates 2-dimensional data frames and lets you work with the rows and columns.  \n",
        "- StatsModels has sample data for use in experimenting with Python"
      ]
    },
    {
      "cell_type": "code",
      "execution_count": null,
      "id": "4630f356",
      "metadata": {
        "id": "4630f356"
      },
      "outputs": [],
      "source": [
        "import pandas as pd\n",
        "import statsmodels.api as sm"
      ]
    },
    {
      "cell_type": "markdown",
      "source": [
        "Let us increase the width of each column and the overall Colab output display - without this, if you display the data, it will wrap the output since all columns do not fit in the default output width."
      ],
      "metadata": {
        "id": "pp0BwOjivUMS"
      },
      "id": "pp0BwOjivUMS"
    },
    {
      "cell_type": "code",
      "source": [
        "#Set the maximum column width to a specific value (e.g., 100 characters)\n",
        "pd.set_option('display.max_colwidth', 100)\n",
        "\n",
        "#Set the overall display width\n",
        "pd.set_option('display.width', 180) # Adjust this value as needed"
      ],
      "metadata": {
        "id": "ZHxRvBP5vUlD"
      },
      "id": "ZHxRvBP5vUlD",
      "execution_count": null,
      "outputs": []
    },
    {
      "cell_type": "markdown",
      "id": "f4528a1c",
      "metadata": {
        "id": "f4528a1c"
      },
      "source": [
        "### Import Sample Data\n",
        "\n",
        "Import the data that was used in lab 1"
      ]
    },
    {
      "cell_type": "code",
      "execution_count": null,
      "id": "577c29d2",
      "metadata": {
        "id": "577c29d2"
      },
      "outputs": [],
      "source": [
        "# obtain the data\n",
        "mtcars = sm.datasets.get_rdataset(\"mtcars\", \"datasets\", cache=True).data\n",
        "\n",
        "# convert to a Pandas Dataframe\n",
        "df = pd.DataFrame(mtcars)\n",
        "\n",
        "# this Dataframe uses car names as its row index, i.e. the index of each row is a different car\n",
        "# it will be useful to also save the car names into a new column in the Dataframe.\n",
        "# create a new column called 'carmodel' and save the values from the Dataframe's index into it\n",
        "df['carmodel'] = df.index\n",
        "\n",
        "# notice that the df now has a new column added at the end.\n",
        "print(df)"
      ]
    },
    {
      "cell_type": "markdown",
      "id": "49431e93",
      "metadata": {
        "id": "49431e93"
      },
      "source": [
        "### Create a Chart\n",
        "\n",
        "We will create a line chart using Pandas. \\n\n",
        "To do so, we will use the Dataframe's plot() method.\n",
        "It has many parameters to specify many options to describe what to plot and also customize the chart. The options we will use are x-axis, y-axis, kind of plot, and the title of the plot"
      ]
    },
    {
      "cell_type": "code",
      "execution_count": null,
      "id": "b14b52e2",
      "metadata": {
        "id": "b14b52e2"
      },
      "outputs": [],
      "source": [
        "#Line chart\n",
        "df.plot(x='carmodel', y='mpg', kind='line', title=\"MPG by Car\")\n",
        "\n"
      ]
    },
    {
      "cell_type": "markdown",
      "source": [
        "If you dont specify an x-axis, it will use the index by default. Also let's see if we can do better and fix the x-axis labels.\n",
        "\n",
        "To do this, we need to import Python's plotting library - **Matplotlib** - this has a lot more custiomizable options."
      ],
      "metadata": {
        "id": "lHEmb3vHz9HH"
      },
      "id": "lHEmb3vHz9HH"
    },
    {
      "cell_type": "code",
      "metadata": {
        "id": "645b96d6"
      },
      "source": [
        "import matplotlib.pyplot as plt\n",
        "\n",
        "df.plot(y='mpg', kind='line', title=\"MPG by Car (using index)\")   # index used for x-axis by default\n",
        "\n",
        "plt.xticks(ticks=range(len(df.index)), labels=df.index, rotation=90)   # show all car names as xticks, rotate 90 degrees\n",
        "plt.tight_layout() # Adjust layout to prevent labels from being cut off\n",
        "plt.xlabel(\"Car model\")\n",
        "plt.ylabel(\"MPG\")\n",
        "plt.show()   # show the plot"
      ],
      "id": "645b96d6",
      "execution_count": null,
      "outputs": []
    }
  ],
  "metadata": {
    "language_info": {
      "name": "python"
    },
    "colab": {
      "provenance": []
    },
    "kernelspec": {
      "name": "python3",
      "display_name": "Python 3"
    }
  },
  "nbformat": 4,
  "nbformat_minor": 5
}